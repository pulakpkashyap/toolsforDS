{
 "cells": [
  {
   "cell_type": "markdown",
   "id": "704d3a8a-f8ce-4ae8-8c89-f6d84c0daa7d",
   "metadata": {
    "tags": []
   },
   "source": [
    "<center>\n",
    "    <img src=\"https://cf-courses-data.s3.us.cloud-object-storage.appdomain.cloud/IBMDeveloperSkillsNetwork-DS0105EN-SkillsNetwork/labs/Module2/images/SN_web_lightmode.png\" width=\"300\" alt=\"cognitiveclass.ai logo\">\n",
    "</center>\n"
   ]
  },
  {
   "cell_type": "markdown",
   "id": "56d68879-6ae8-4cc3-bf72-550130bd63cb",
   "metadata": {},
   "source": [
    "#### Add your code below following the instructions given in the course\n"
   ]
  },
  {
   "cell_type": "markdown",
   "id": "2bfd4e2a-93d9-4ade-b76f-8dfa48aa0ea8",
   "metadata": {},
   "source": [
    "# Data Science Tools and Ecosystem"
   ]
  },
  {
   "cell_type": "markdown",
   "id": "69b9a630-4a9c-4cd9-91fd-8926a43d3f06",
   "metadata": {},
   "source": [
    "## In this notebook, Data Science Tools and Ecosystem are summarized"
   ]
  },
  {
   "cell_type": "markdown",
   "id": "d7f21535-e0ec-448b-af76-3c13de03ff1c",
   "metadata": {},
   "source": [
    "#### Some of the popular languages that Data Scientists use are:\n",
    "1. Python\n",
    "2. SQL\n",
    "3. R\n",
    "4. Julia\n",
    "5. Scala\n",
    "6. C++\n",
    "7. Java\n",
    "8. JavaScript"
   ]
  },
  {
   "cell_type": "markdown",
   "id": "df1eb0ff-fa6c-43a5-99a0-aaacedeea68f",
   "metadata": {},
   "source": [
    "#### Some of the commonly used libraries used by Data Scientist are:\n",
    "1. NumPy\n",
    "2. Pandas\n",
    "3. Matplotlib\n",
    "4. Seaborn\n",
    "5. Scikit-Learn\n",
    "6. TensorFlow\n",
    "7. Keras"
   ]
  },
  {
   "cell_type": "markdown",
   "id": "6bf6d7f8-9318-4e85-b681-f944d9f0eefd",
   "metadata": {},
   "source": [
    "| Data Science Tools |\n",
    "| ------------------ |\n",
    "| R Studio |\n",
    "| Jupyter Notebook |\n",
    "| Spyder |"
   ]
  },
  {
   "cell_type": "markdown",
   "id": "b9b9780a-0be5-4a74-9ee4-6b0d6f5f72fa",
   "metadata": {},
   "source": [
    "### Below are a few examples of evaluating arithmetic expressions in Python"
   ]
  },
  {
   "cell_type": "code",
   "execution_count": 2,
   "id": "271900c8-e2f8-490c-a287-f70572dee034",
   "metadata": {
    "tags": []
   },
   "outputs": [
    {
     "data": {
      "text/plain": [
       "17"
      ]
     },
     "execution_count": 2,
     "metadata": {},
     "output_type": "execute_result"
    }
   ],
   "source": [
    "# This is a simple arithmetic expression to multiply then add integers.\n",
    "(3*4)+5"
   ]
  },
  {
   "cell_type": "code",
   "execution_count": 3,
   "id": "ca5ffab7-8a55-4278-8b1c-a69c9a17b479",
   "metadata": {
    "tags": []
   },
   "outputs": [
    {
     "data": {
      "text/plain": [
       "3.3333333333333335"
      ]
     },
     "execution_count": 3,
     "metadata": {},
     "output_type": "execute_result"
    }
   ],
   "source": [
    "# This will convert 200 minutes to hours by diving it by 60.\n",
    "200/60"
   ]
  },
  {
   "cell_type": "markdown",
   "id": "820632e6-7391-4bea-b9db-ad8616e9c77d",
   "metadata": {},
   "source": [
    "## **Objectives**\n",
    "- List (Ordered) popular languages for Data Science\n",
    "- List (Ordered) popular tools used in Data Science\n",
    "- Make a table of the popular Open-Sourced Development Environments used in Data Science\n",
    "- Use Headings of different sizes in markdowns\n",
    "- Solve some simple arithmetic expressions"
   ]
  },
  {
   "cell_type": "markdown",
   "id": "03020bac-e2f4-44df-aa5d-ff90d2d674a8",
   "metadata": {},
   "source": [
    "## Author\n",
    "Pulak Pallab Kashyap"
   ]
  }
 ],
 "metadata": {
  "kernelspec": {
   "display_name": "Python",
   "language": "python",
   "name": "conda-env-python-py"
  },
  "language_info": {
   "codemirror_mode": {
    "name": "ipython",
    "version": 3
   },
   "file_extension": ".py",
   "mimetype": "text/x-python",
   "name": "python",
   "nbconvert_exporter": "python",
   "pygments_lexer": "ipython3",
   "version": "3.7.12"
  }
 },
 "nbformat": 4,
 "nbformat_minor": 5
}
